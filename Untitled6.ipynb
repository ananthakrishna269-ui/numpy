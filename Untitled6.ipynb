{
  "nbformat": 4,
  "nbformat_minor": 0,
  "metadata": {
    "colab": {
      "provenance": [],
      "authorship_tag": "ABX9TyOLLsX6/AG02/GsbSdqxyHo",
      "include_colab_link": true
    },
    "kernelspec": {
      "name": "python3",
      "display_name": "Python 3"
    },
    "language_info": {
      "name": "python"
    }
  },
  "cells": [
    {
      "cell_type": "markdown",
      "metadata": {
        "id": "view-in-github",
        "colab_type": "text"
      },
      "source": [
        "<a href=\"https://colab.research.google.com/github/ananthakrishna269-ui/numpy/blob/main/Untitled6.ipynb\" target=\"_parent\"><img src=\"https://colab.research.google.com/assets/colab-badge.svg\" alt=\"Open In Colab\"/></a>"
      ]
    },
    {
      "cell_type": "code",
      "execution_count": null,
      "metadata": {
        "colab": {
          "base_uri": "https://localhost:8080/"
        },
        "id": "0I0eYDmAE-6g",
        "outputId": "54246a14-f5d1-48e2-bc45-fd8efd1eaa92"
      },
      "outputs": [
        {
          "output_type": "stream",
          "name": "stdout",
          "text": [
            "['1' '2' '3.3' '4' 'a']\n"
          ]
        }
      ],
      "source": [
        "import numpy as np #numerical python\n",
        "\n",
        "#array collection of data with same data type (homogenious)\n",
        "\n",
        "#a=np.array ([1,2,3,4])\n",
        "#a=np.array ([1,2,3.2,4])\n",
        "a=np.array ([1,2,3.3,4,\"a\"])\n",
        "print(a)"
      ]
    },
    {
      "cell_type": "code",
      "source": [
        "#slicing , forword slicing ,backward slicing\n",
        "b=np.array([1,2,3,4,5])\n",
        "#print (1,2)\n",
        "print(b[0:2])\n",
        "#print(5,4)\n",
        "print(b[-1:-3:-1])\n",
        "#print(4,5)\n",
        "print(b[3:])\n",
        "#print(2,1)\n",
        "print[-4::-1]"
      ],
      "metadata": {
        "colab": {
          "base_uri": "https://localhost:8080/",
          "height": 228
        },
        "id": "BQ0nfSbBHQ40",
        "outputId": "014af02f-7ded-4e58-c842-1815ce31fa74"
      },
      "execution_count": null,
      "outputs": [
        {
          "output_type": "stream",
          "name": "stdout",
          "text": [
            "[1 2]\n",
            "[5 4]\n",
            "[4 5]\n"
          ]
        },
        {
          "output_type": "error",
          "ename": "TypeError",
          "evalue": "'builtin_function_or_method' object is not subscriptable",
          "traceback": [
            "\u001b[0;31m---------------------------------------------------------------------------\u001b[0m",
            "\u001b[0;31mTypeError\u001b[0m                                 Traceback (most recent call last)",
            "\u001b[0;32m/tmp/ipython-input-2684085210.py\u001b[0m in \u001b[0;36m<cell line: 0>\u001b[0;34m()\u001b[0m\n\u001b[1;32m      8\u001b[0m \u001b[0mprint\u001b[0m\u001b[0;34m(\u001b[0m\u001b[0mb\u001b[0m\u001b[0;34m[\u001b[0m\u001b[0;36m3\u001b[0m\u001b[0;34m:\u001b[0m\u001b[0;34m]\u001b[0m\u001b[0;34m)\u001b[0m\u001b[0;34m\u001b[0m\u001b[0;34m\u001b[0m\u001b[0m\n\u001b[1;32m      9\u001b[0m \u001b[0;31m#print(2,1)\u001b[0m\u001b[0;34m\u001b[0m\u001b[0;34m\u001b[0m\u001b[0m\n\u001b[0;32m---> 10\u001b[0;31m \u001b[0mprint\u001b[0m\u001b[0;34m[\u001b[0m\u001b[0;34m-\u001b[0m\u001b[0;36m4\u001b[0m\u001b[0;34m:\u001b[0m\u001b[0;34m:\u001b[0m\u001b[0;34m-\u001b[0m\u001b[0;36m1\u001b[0m\u001b[0;34m]\u001b[0m\u001b[0;34m\u001b[0m\u001b[0;34m\u001b[0m\u001b[0m\n\u001b[0m",
            "\u001b[0;31mTypeError\u001b[0m: 'builtin_function_or_method' object is not subscriptable"
          ]
        }
      ]
    },
    {
      "cell_type": "code",
      "source": [
        "#dimention\n",
        "a=np.array([1,2,3,4,5]) # one dimentional array\n",
        "n=np.array([[1,2],[3,4]])  # two dimentional array\n",
        "a.ndim #dimension =1 vector\n",
        "b.ndim #dimention =2 matrix\n",
        "print(b)"
      ],
      "metadata": {
        "colab": {
          "base_uri": "https://localhost:8080/"
        },
        "id": "UN-G0QMYJpNc",
        "outputId": "5d492d8c-577d-4f98-9429-ffc69e0c3fa6"
      },
      "execution_count": null,
      "outputs": [
        {
          "output_type": "stream",
          "name": "stdout",
          "text": [
            "[1 2 3 4 5]\n"
          ]
        }
      ]
    },
    {
      "cell_type": "code",
      "source": [
        "#create a 2x2 matrix 2,3    4,5\n",
        "z=np.array([[2,3],[4,5]])\n",
        "print(z)\n",
        "print(z.shape)\n",
        "print(z.ndim)\n",
        "print(z.size)"
      ],
      "metadata": {
        "colab": {
          "base_uri": "https://localhost:8080/"
        },
        "id": "HiaUg6pYKtmu",
        "outputId": "8369724f-cc81-4a42-eea0-b69216aaeece"
      },
      "execution_count": null,
      "outputs": [
        {
          "output_type": "stream",
          "name": "stdout",
          "text": [
            "[[2 3]\n",
            " [4 5]]\n",
            "(2, 2)\n",
            "2\n",
            "4\n"
          ]
        }
      ]
    },
    {
      "cell_type": "code",
      "source": [
        "#create a 2x3 matrix and print size shape diamention\n",
        "a=np.array([[2,3,4],[5,6,7]])\n",
        "print(a)\n",
        "print(a.size)\n",
        "print(a.ndim)\n",
        "print(a.shape)"
      ],
      "metadata": {
        "colab": {
          "base_uri": "https://localhost:8080/"
        },
        "id": "ZJ_W0z0hLdBU",
        "outputId": "a0f49e7a-694b-418f-e3e8-17b3f794205c"
      },
      "execution_count": null,
      "outputs": [
        {
          "output_type": "stream",
          "name": "stdout",
          "text": [
            "[[2 3 4]\n",
            " [5 6 7]]\n",
            "6\n",
            "2\n",
            "(2, 3)\n"
          ]
        }
      ]
    },
    {
      "cell_type": "code",
      "source": [
        "#create 4x2 matrix\n",
        "b=np.array([[1,2],[3,4],[5,6],[7,8]])\n",
        "print(b)\n",
        "print(b.size)\n",
        "print(b.shape)\n",
        "print(b.ndim)"
      ],
      "metadata": {
        "colab": {
          "base_uri": "https://localhost:8080/"
        },
        "id": "5MCxQeM4MkFh",
        "outputId": "a2e695be-4f4c-4bdd-ad20-978c4536b84b"
      },
      "execution_count": null,
      "outputs": [
        {
          "output_type": "stream",
          "name": "stdout",
          "text": [
            "[[1 2]\n",
            " [3 4]\n",
            " [5 6]\n",
            " [7 8]]\n",
            "8\n",
            "(4, 2)\n",
            "2\n"
          ]
        }
      ]
    },
    {
      "cell_type": "code",
      "source": [
        "#create 4x4 matrix\n",
        "import numpy as np\n",
        "\n",
        "c=np.array([[1,2,3,4],[5,6,8,9],[3,5,6,7],[6,4,6,7]])\n",
        "print(c)\n",
        "print(c.ndim)\n",
        "print(c.size)\n",
        "print(c.shape)"
      ],
      "metadata": {
        "colab": {
          "base_uri": "https://localhost:8080/"
        },
        "id": "0RltOR9-NedG",
        "outputId": "9793ae7a-f4d1-4d21-bac6-85efa1dae90c"
      },
      "execution_count": null,
      "outputs": [
        {
          "output_type": "stream",
          "name": "stdout",
          "text": [
            "[[1 2 3 4]\n",
            " [5 6 8 9]\n",
            " [3 5 6 7]\n",
            " [6 4 6 7]]\n",
            "2\n",
            "16\n",
            "(4, 4)\n"
          ]
        }
      ]
    },
    {
      "cell_type": "code",
      "source": [
        "import numpy as np\n",
        "\n",
        "c=np.array([[1,2,3,4],[5,6,8,9],[3,5,6,7],[6,4,6,7]])\n",
        "print(c[0])\n",
        "print(c[:,0])\n",
        "print(c[1,1])\n",
        "print(c[3,2:])\n",
        "print(c[2:,2:])\n",
        "print(c[2:,1:3])\n",
        "print(c[1:3,3])\n",
        "print(c[1:3,0:3])"
      ],
      "metadata": {
        "colab": {
          "base_uri": "https://localhost:8080/"
        },
        "id": "CuuIKjDjFoDQ",
        "outputId": "f8a8e294-25d0-4f48-9bd2-1f5fea328458"
      },
      "execution_count": null,
      "outputs": [
        {
          "output_type": "stream",
          "name": "stdout",
          "text": [
            "[1 2 3 4]\n",
            "[1 5 3 6]\n",
            "6\n",
            "[6 7]\n",
            "[[6 7]\n",
            " [6 7]]\n",
            "[[5 6]\n",
            " [4 6]]\n",
            "[9 7]\n",
            "[[5 6 8]\n",
            " [3 5 6]]\n"
          ]
        }
      ]
    },
    {
      "cell_type": "code",
      "source": [
        "#zero metrix\n",
        "\n",
        "z=np.zeros([3,3,3],dtype=int)\n",
        "\n",
        "print(z)"
      ],
      "metadata": {
        "colab": {
          "base_uri": "https://localhost:8080/"
        },
        "id": "2TOUl6hGKJB0",
        "outputId": "3b3db4fb-c7eb-4eb4-cf1c-0a777bbbfb2d"
      },
      "execution_count": null,
      "outputs": [
        {
          "output_type": "stream",
          "name": "stdout",
          "text": [
            "[[[0 0 0]\n",
            "  [0 0 0]\n",
            "  [0 0 0]]\n",
            "\n",
            " [[0 0 0]\n",
            "  [0 0 0]\n",
            "  [0 0 0]]\n",
            "\n",
            " [[0 0 0]\n",
            "  [0 0 0]\n",
            "  [0 0 0]]]\n"
          ]
        }
      ]
    },
    {
      "cell_type": "code",
      "source": [
        "#one metrix\n",
        "\n",
        "z=np.ones([3,3],dtype=int)\n",
        "print(z)"
      ],
      "metadata": {
        "colab": {
          "base_uri": "https://localhost:8080/"
        },
        "id": "FFxcjniIKoFI",
        "outputId": "c255ab99-f74c-47c4-f1f0-f4b790d433e3"
      },
      "execution_count": null,
      "outputs": [
        {
          "output_type": "stream",
          "name": "stdout",
          "text": [
            "[[1 1 1]\n",
            " [1 1 1]\n",
            " [1 1 1]]\n"
          ]
        }
      ]
    },
    {
      "cell_type": "code",
      "source": [
        "#create  two 2x2 matrix\n",
        "a=np.array([[1,2],[3,4]])\n",
        "b=np.array([[5,6],[7,8]])\n",
        "print(b.shape)\n",
        "print(a.shape)"
      ],
      "metadata": {
        "colab": {
          "base_uri": "https://localhost:8080/"
        },
        "id": "6PtKlIJqK5SL",
        "outputId": "ca9306da-7066-480b-e046-a9856308205a"
      },
      "execution_count": null,
      "outputs": [
        {
          "output_type": "stream",
          "name": "stdout",
          "text": [
            "(2, 2)\n",
            "(2, 2)\n"
          ]
        }
      ]
    },
    {
      "cell_type": "code",
      "source": [
        "#matrix addition\n",
        "a=np.array([[1,2],[3,4]])\n",
        "b=np.array([[5,6],[7,8]])\n",
        "print(a+b)"
      ],
      "metadata": {
        "colab": {
          "base_uri": "https://localhost:8080/"
        },
        "id": "5MJb3U4ALxvx",
        "outputId": "7fc6bdb3-a97b-48d4-9bfe-698a5ccb1a94"
      },
      "execution_count": null,
      "outputs": [
        {
          "output_type": "stream",
          "name": "stdout",
          "text": [
            "[[ 6  8]\n",
            " [10 12]]\n"
          ]
        }
      ]
    },
    {
      "cell_type": "code",
      "source": [
        "#matrix sub\n",
        "print(a-b)"
      ],
      "metadata": {
        "colab": {
          "base_uri": "https://localhost:8080/"
        },
        "id": "m081yr4KMAKr",
        "outputId": "60656dc4-9501-4d84-9f5e-7b1d311e24dd"
      },
      "execution_count": null,
      "outputs": [
        {
          "output_type": "stream",
          "name": "stdout",
          "text": [
            "[[-4 -4]\n",
            " [-4 -4]]\n"
          ]
        }
      ]
    },
    {
      "cell_type": "code",
      "source": [
        "#matrix multi (1st matrix row x 2 nd matrix colum)\n",
        "print(a@b) # metrix multiplication\n",
        "print(a*b) # not matrix multiplication\n",
        "print(a.dot(b)) # matrix multiplication"
      ],
      "metadata": {
        "colab": {
          "base_uri": "https://localhost:8080/"
        },
        "id": "tHZ4Uw7JMp5E",
        "outputId": "9baba5ab-db3a-48d0-ffe9-ecbeb53dff07"
      },
      "execution_count": null,
      "outputs": [
        {
          "output_type": "stream",
          "name": "stdout",
          "text": [
            "[[19 22]\n",
            " [43 50]]\n",
            "[[ 5 12]\n",
            " [21 32]]\n",
            "[[19 22]\n",
            " [43 50]]\n"
          ]
        }
      ]
    },
    {
      "cell_type": "code",
      "source": [
        "#matrix div\n",
        "print(a/b)"
      ],
      "metadata": {
        "colab": {
          "base_uri": "https://localhost:8080/"
        },
        "id": "qSaVSlzvNWQi",
        "outputId": "a5547361-f1df-44bf-81a3-9c31a45445da"
      },
      "execution_count": null,
      "outputs": [
        {
          "output_type": "stream",
          "name": "stdout",
          "text": [
            "[[0.2        0.33333333]\n",
            " [0.42857143 0.5       ]]\n"
          ]
        }
      ]
    },
    {
      "cell_type": "code",
      "source": [
        "#magic = __add__"
      ],
      "metadata": {
        "id": "CttD6V7YNj0p"
      },
      "execution_count": null,
      "outputs": []
    },
    {
      "cell_type": "code",
      "source": [
        "#full matrix\n",
        "a=np.full([3,3],7,dtype=int)\n",
        "print(a)"
      ],
      "metadata": {
        "colab": {
          "base_uri": "https://localhost:8080/"
        },
        "id": "hZpWsLicNv9Z",
        "outputId": "71f4703c-b3d5-4949-944a-ecee0244087b"
      },
      "execution_count": null,
      "outputs": [
        {
          "output_type": "stream",
          "name": "stdout",
          "text": [
            "[[7 7 7]\n",
            " [7 7 7]\n",
            " [7 7 7]]\n"
          ]
        }
      ]
    },
    {
      "cell_type": "code",
      "source": [
        "#create 3x4 matrix with value 9 and datatype complex\n",
        "b=np.full([3,4],9,dtype=complex)\n",
        "print(b)"
      ],
      "metadata": {
        "colab": {
          "base_uri": "https://localhost:8080/"
        },
        "id": "04aIqVvBOjav",
        "outputId": "94e6a4bb-977a-4e07-e211-cf8dee2a96a5"
      },
      "execution_count": null,
      "outputs": [
        {
          "output_type": "stream",
          "name": "stdout",
          "text": [
            "[[9.+0.j 9.+0.j 9.+0.j 9.+0.j]\n",
            " [9.+0.j 9.+0.j 9.+0.j 9.+0.j]\n",
            " [9.+0.j 9.+0.j 9.+0.j 9.+0.j]]\n"
          ]
        }
      ]
    },
    {
      "cell_type": "code",
      "source": [
        "#identity matrix\n",
        "a=np.identity(3,dtype=int)\n",
        "print(a)\n",
        "\n",
        "#or\n",
        "\n",
        "b=np.eye(3)\n",
        "print(b)\n"
      ],
      "metadata": {
        "colab": {
          "base_uri": "https://localhost:8080/"
        },
        "id": "ftHZoocbO--H",
        "outputId": "6a7f2b1c-6a03-4ffe-9fa6-cd083711e0ab"
      },
      "execution_count": null,
      "outputs": [
        {
          "output_type": "stream",
          "name": "stdout",
          "text": [
            "[[1 0 0]\n",
            " [0 1 0]\n",
            " [0 0 1]]\n",
            "[[1. 0. 0.]\n",
            " [0. 1. 0.]\n",
            " [0. 0. 1.]]\n"
          ]
        }
      ]
    },
    {
      "cell_type": "code",
      "source": [
        "#create a 4x4 matrix\n",
        "import numpy as np\n",
        "c=np.array([[1,2,3,4],[5,6,8,9],[10,11,12,13],[14,15,16,17]])\n",
        "print(c)\n",
        "print(c.size)\n"
      ],
      "metadata": {
        "colab": {
          "base_uri": "https://localhost:8080/"
        },
        "id": "VKLyPLsqQvqZ",
        "outputId": "3f35da2d-a7e3-40dc-eb2c-67c5eff80655"
      },
      "execution_count": null,
      "outputs": [
        {
          "output_type": "stream",
          "name": "stdout",
          "text": [
            "[[ 1  2  3  4]\n",
            " [ 5  6  8  9]\n",
            " [10 11 12 13]\n",
            " [14 15 16 17]]\n",
            "16\n"
          ]
        }
      ]
    },
    {
      "cell_type": "code",
      "source": [
        "a=c.reshape(8,2)\n",
        "print(a)"
      ],
      "metadata": {
        "colab": {
          "base_uri": "https://localhost:8080/"
        },
        "id": "2kPNlMY3RUtB",
        "outputId": "e5a2d64a-2ae1-445b-b284-01c2f6a94cc8"
      },
      "execution_count": null,
      "outputs": [
        {
          "output_type": "stream",
          "name": "stdout",
          "text": [
            "[[ 1  2]\n",
            " [ 3  4]\n",
            " [ 5  6]\n",
            " [ 8  9]\n",
            " [10 11]\n",
            " [12 13]\n",
            " [14 15]\n",
            " [16 17]]\n"
          ]
        }
      ]
    },
    {
      "cell_type": "code",
      "source": [
        "#arange\n",
        "a=np.arange(1,10,2)\n",
        "print(a)"
      ],
      "metadata": {
        "colab": {
          "base_uri": "https://localhost:8080/"
        },
        "id": "c75Hk8WRSegW",
        "outputId": "3831e1b0-305e-48b5-df34-f95720ef1e92"
      },
      "execution_count": null,
      "outputs": [
        {
          "output_type": "stream",
          "name": "stdout",
          "text": [
            "[1 3 5 7 9]\n"
          ]
        }
      ]
    },
    {
      "cell_type": "code",
      "source": [
        "#create a 5x2 matrix using arange\n",
        "b=np.arange(1,11).reshape(5,2)\n",
        "print(b)"
      ],
      "metadata": {
        "colab": {
          "base_uri": "https://localhost:8080/"
        },
        "id": "d-N-r-w_Swsl",
        "outputId": "0d41db46-03d3-4f07-dced-d2d95911471b"
      },
      "execution_count": null,
      "outputs": [
        {
          "output_type": "stream",
          "name": "stdout",
          "text": [
            "[[ 1  2]\n",
            " [ 3  4]\n",
            " [ 5  6]\n",
            " [ 7  8]\n",
            " [ 9 10]]\n"
          ]
        }
      ]
    },
    {
      "cell_type": "code",
      "source": [
        "#create a 3x3 matrix with float value\n",
        "a=np.array([[1.3,2.4,3.6],[4.5,5.4,6.5],[7.5,8.5,9.7]])\n",
        "print(a)"
      ],
      "metadata": {
        "colab": {
          "base_uri": "https://localhost:8080/"
        },
        "id": "P4Ae3TusTPjQ",
        "outputId": "0d9f7281-6c1f-4678-b643-791129862381"
      },
      "execution_count": null,
      "outputs": [
        {
          "output_type": "stream",
          "name": "stdout",
          "text": [
            "[[1.3 2.4 3.6]\n",
            " [4.5 5.4 6.5]\n",
            " [7.5 8.5 9.7]]\n"
          ]
        }
      ]
    },
    {
      "cell_type": "code",
      "source": [
        "#floor\n",
        "a=np.floor([[1.3,2.4,3.6],[4.5,5.4,6.5],[7.5,8.5,9.7]])\n",
        "print(a)"
      ],
      "metadata": {
        "colab": {
          "base_uri": "https://localhost:8080/"
        },
        "id": "zCEmSDDaU7nH",
        "outputId": "039413b4-7121-4aa2-b4af-4053c8e909f7"
      },
      "execution_count": null,
      "outputs": [
        {
          "output_type": "stream",
          "name": "stdout",
          "text": [
            "[[1. 2. 3.]\n",
            " [4. 5. 6.]\n",
            " [7. 8. 9.]]\n"
          ]
        }
      ]
    },
    {
      "cell_type": "code",
      "source": [
        "#ceil\n",
        "a=np.ceil([[1.3,2.4,3.6],[4.7,5.4,6.5],[7.6,8.5,9.7]])\n",
        "print(a)"
      ],
      "metadata": {
        "colab": {
          "base_uri": "https://localhost:8080/"
        },
        "id": "gkzmanRsVWhW",
        "outputId": "b36ba3c4-8b29-4117-89ff-60ede812fec4"
      },
      "execution_count": null,
      "outputs": [
        {
          "output_type": "stream",
          "name": "stdout",
          "text": [
            "[[ 2.  3.  4.]\n",
            " [ 5.  6.  7.]\n",
            " [ 8.  9. 10.]]\n"
          ]
        }
      ]
    },
    {
      "cell_type": "code",
      "source": [
        "#round\n",
        "a=np.round([[1.3,2.4,3.6],[4.5,5.4,6.5],[7.5,8.5,9.7]])\n",
        "print(a)"
      ],
      "metadata": {
        "colab": {
          "base_uri": "https://localhost:8080/"
        },
        "id": "89jP90ARWtm4",
        "outputId": "7e3b0cc8-71b3-4a4c-a324-e1c8feedbe1f"
      },
      "execution_count": null,
      "outputs": [
        {
          "output_type": "stream",
          "name": "stdout",
          "text": [
            "[[ 1.  2.  4.]\n",
            " [ 4.  5.  6.]\n",
            " [ 8.  8. 10.]]\n"
          ]
        }
      ]
    },
    {
      "cell_type": "code",
      "source": [
        "#create a 3x3 matrix\n",
        "a=np.arange(1,10).reshape(3,3)\n",
        "print(a)\n",
        "\n",
        "a.max(axis=1) #colum\n",
        "a.max(axis=0) #"
      ],
      "metadata": {
        "colab": {
          "base_uri": "https://localhost:8080/"
        },
        "id": "srWKDNUwXQ8Q",
        "outputId": "9c3c06fa-19d2-48ac-aaf1-f8edaa9f5e0d"
      },
      "execution_count": null,
      "outputs": [
        {
          "output_type": "stream",
          "name": "stdout",
          "text": [
            "[[1 2 3]\n",
            " [4 5 6]\n",
            " [7 8 9]]\n"
          ]
        },
        {
          "output_type": "execute_result",
          "data": {
            "text/plain": [
              "array([7, 8, 9])"
            ]
          },
          "metadata": {},
          "execution_count": 55
        }
      ]
    },
    {
      "cell_type": "code",
      "source": [
        "#sort\n",
        "#create 3x3 matrix\n",
        "import numpy as np\n",
        "\n",
        "a=np.array([[34,65,22],[6,5,4],[9,8,7]])\n",
        "print(a)\n",
        "b=np.sort(a,axis=1)\n",
        "print(b)\n",
        "c=np.argsort(a,axis=1) #find the index of the sorted matrix\n",
        "print(c)\n",
        "\n",
        "\n",
        "\n"
      ],
      "metadata": {
        "colab": {
          "base_uri": "https://localhost:8080/"
        },
        "id": "P6eleJLPmDD2",
        "outputId": "0b843999-83d8-49d3-e62b-166845e3b75c"
      },
      "execution_count": 10,
      "outputs": [
        {
          "output_type": "stream",
          "name": "stdout",
          "text": [
            "[[34 65 22]\n",
            " [ 6  5  4]\n",
            " [ 9  8  7]]\n",
            "[[22 34 65]\n",
            " [ 4  5  6]\n",
            " [ 7  8  9]]\n",
            "[[2 0 1]\n",
            " [2 1 0]\n",
            " [2 1 0]]\n"
          ]
        }
      ]
    }
  ]
}